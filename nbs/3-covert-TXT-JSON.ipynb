{
 "cells": [
  {
   "cell_type": "code",
   "execution_count": null,
   "metadata": {},
   "outputs": [],
   "source": [
    "import os\n",
    "import datasets\n",
    "import json\n",
    "import glob\n",
    "from tqdm.notebook import trange,tqdm"
   ]
  },
  {
   "cell_type": "code",
   "execution_count": null,
   "metadata": {},
   "outputs": [],
   "source": [
    "collapsed = False"
   ]
  },
  {
   "cell_type": "code",
   "execution_count": null,
   "metadata": {},
   "outputs": [],
   "source": [
    "if collapsed:\n",
    "    labels_dict = {\n",
    "        \"B-LOCATION\":0,\n",
    "        \"B-ORGANIZATION\":1,\n",
    "        \"B-PERSON\":2,\n",
    "        \"I-LOCATION\":3,\n",
    "        \"I-ORGANIZATION\":4,\n",
    "        \"I-PERSON\":5,\n",
    "        \"O\":6,\n",
    "    }\n",
    "else:\n",
    "    labels_dict = {\n",
    "        \"B-FESTIVAL\":0,\n",
    "        \"B-GAME\":1,\n",
    "        \"B-LANGUAGE\":2,\n",
    "        \"B-LITERATURE\":3,\n",
    "        \"B-LOCATION\":4,\n",
    "        \"B-MISC\":5,\n",
    "        \"B-NUMEX\":6,\n",
    "        \"B-ORGANIZATION\":7,\n",
    "        \"B-PERSON\":8,\n",
    "        \"B-RELIGION\":9,\n",
    "        \"B-TIMEX\":10,\n",
    "        \"I-FESTIVAL\":11,\n",
    "        \"I-GAME\":12,\n",
    "        \"I-LANGUAGE\":13,\n",
    "        \"I-LITERATURE\":14,\n",
    "        \"I-LOCATION\":15,\n",
    "        \"I-MISC\":16,\n",
    "        \"I-NUMEX\":17,\n",
    "        \"I-ORGANIZATION\":18,\n",
    "        \"I-PERSON\":19,\n",
    "        \"I-RELIGION\":20,\n",
    "        \"I-TIMEX\":21,\n",
    "        \"O\":22,\n",
    "    }"
   ]
  },
  {
   "cell_type": "code",
   "execution_count": null,
   "metadata": {},
   "outputs": [],
   "source": [
    "# pos_dict = {\n",
    "#     \"ADJ\":0,\n",
    "#     \"ADP\":1,\n",
    "#     \"ADV\":2,\n",
    "#     \"AUX\":3,\n",
    "#     \"CONJ\":4,\n",
    "#     \"CCONJ\":5,\n",
    "#     \"DET\":6,\n",
    "#     \"INTJ\":7,\n",
    "#     \"NOUN\":8,\n",
    "#     \"NUM\":9,\n",
    "#     \"PART\":10,\n",
    "#     \"PRON\":11,\n",
    "#     \"PROPN\":12,\n",
    "#     \"PUNCT\":13,\n",
    "#     \"SCONJ\":14,\n",
    "#     \"SYM\":15,\n",
    "#     \"VERB\":16,\n",
    "#     \"X\":17,\n",
    "#     \"SPACE\":18\n",
    "# }"
   ]
  },
  {
   "cell_type": "code",
   "execution_count": null,
   "metadata": {},
   "outputs": [],
   "source": [
    "def generate_examples(filepath):\n",
    "    #logger.info(\"⏳ Generating examples from = %s\", filepath)\n",
    "    with open(filepath, encoding=\"utf-8\") as f:\n",
    "        guid = 0\n",
    "        tokens = []\n",
    "        pos_tags = []\n",
    "        #chunk_tags = []\n",
    "        ner_tags = []\n",
    "        final = []\n",
    "        for line in f:\n",
    "            if line.startswith(\"-DOCSTART-\") or line == \"\" or line == \"\\n\":\n",
    "                if tokens:\n",
    "                    yield_dict = {\n",
    "                        \"id\": str(guid),\n",
    "                        \"tokens\": tokens,\n",
    "                        #\"pos_tags\": pos_tags,\n",
    "                        \"ner_tags\": ner_tags\n",
    "                    }\n",
    "                    final.append(yield_dict)\n",
    "                    guid += 1\n",
    "                    tokens = []\n",
    "                    #pos_tags = []\n",
    "                    #chunk_tags = []\n",
    "                    ner_tags = []\n",
    "            else:\n",
    "                # conll2003 tokens are space separated\n",
    "                splits = line.split(\"\\t\")\n",
    "                tokens.append(splits[0].strip())\n",
    "                #pos_tags.append(pos_dict[splits[1].strip()])\n",
    "                #chunk_tags.append(splits[2])\n",
    "                ner_tags.append(labels_dict[splits[1].strip()])\n",
    "        # last example\n",
    "        yield_dict= {\n",
    "            \"id\": str(guid),\n",
    "            \"tokens\": tokens,\n",
    "            #\"pos_tags\": pos_tags,\n",
    "            #\"chunk_tags\": chunk_tags,\n",
    "            \"ner_tags\": ner_tags,\n",
    "        }\n",
    "        #final.append(yield_dict)\n",
    "    return final"
   ]
  },
  {
   "cell_type": "code",
   "execution_count": null,
   "metadata": {},
   "outputs": [],
   "source": [
    "if collapsed:\n",
    "    for split in ['train', 'validation', 'test']:\n",
    "        data_ = generate_examples(\"../data/collapsed/{0}.conll\".format( split ))\n",
    "\n",
    "        with open('../data/collapsed/{0}.json'.format( split ), 'w') as fp:\n",
    "            json.dump(data_, fp)\n",
    "else:\n",
    "    for split in ['train', 'validation', 'test']:\n",
    "        data_ = generate_examples(\"../data/original/{0}.conll\".format( split ))\n",
    "\n",
    "        with open('../data/original/{0}.json'.format( split ), 'w') as fp:\n",
    "            json.dump(data_, fp)"
   ]
  },
  {
   "cell_type": "code",
   "execution_count": null,
   "metadata": {},
   "outputs": [],
   "source": []
  }
 ],
 "metadata": {
  "interpreter": {
   "hash": "fd5003afe4d304b87f77d601a74a130b1881051bb00fb0d8527146eb7f967d2e"
  },
  "kernelspec": {
   "display_name": "Python 3 (ipykernel)",
   "language": "python",
   "name": "python3"
  },
  "language_info": {
   "codemirror_mode": {
    "name": "ipython",
    "version": 3
   },
   "file_extension": ".py",
   "mimetype": "text/x-python",
   "name": "python",
   "nbconvert_exporter": "python",
   "pygments_lexer": "ipython3",
   "version": "3.8.0"
  }
 },
 "nbformat": 4,
 "nbformat_minor": 4
}
